{
 "cells": [
  {
   "cell_type": "code",
   "execution_count": 3,
   "id": "assigned-special",
   "metadata": {},
   "outputs": [],
   "source": [
    "import numpy as np\n",
    "import torch\n",
    "X = torch.rand(4, 3) # N * D = 4 * 3\n",
    "W = torch.rand(3, 5) # D * C = 3 * 5\n",
    "y = torch.randperm(4) # N * 1 = 4\n",
    "num_train = X.shape[0]\n",
    "num_classes = W.shape[1]\n",
    "reg = 0.01"
   ]
  },
  {
   "cell_type": "code",
   "execution_count": 49,
   "id": "phantom-castle",
   "metadata": {},
   "outputs": [
    {
     "name": "stdout",
     "output_type": "stream",
     "text": [
      "dW =  tensor([[-0.2438,  0.1290, -0.5054,  0.0358,  0.6338],\n",
      "        [-0.4746,  0.4525, -0.5251,  0.1025,  0.5000],\n",
      "        [ 0.2970,  0.3109, -0.3589, -0.5410,  0.3348]]) \n",
      "\n",
      "loss = tensor(3.3617)\n"
     ]
    }
   ],
   "source": [
    "# element-wise multiclass SVM\n",
    "dW_elem = torch.zeros_like(W)\n",
    "loss_elem = 0\n",
    "\n",
    "for i in range(num_train):\n",
    "    #loss_elem = 0\n",
    "    score_elem = W.t().mv(X[i])\n",
    "    # svm is max(0, 1 + score[j] - correct_score[y[i]])\n",
    "    for j in range(num_classes):\n",
    "        if (j == y[i]):\n",
    "            continue\n",
    "        margin = 1 + score_elem[j] - score_elem[y[i]]\n",
    "        #print(margin, end='')\n",
    "        if margin > 0:\n",
    "            loss_elem += margin\n",
    "            dW_elem[:, j] += X[i, :]\n",
    "            dW_elem[:, y[i]] += -1 * X[i, :]\n",
    "    #print('\\n')\n",
    "loss_elem /= num_train\n",
    "loss_elem += reg * torch.sum(W * W)\n",
    "dW_elem /= num_train\n",
    "dW_elem += 2 * reg * W\n",
    "print('dW = ', dW_elem, '\\n')\n",
    "print('loss =', loss_elem)\n",
    "\n"
   ]
  },
  {
   "cell_type": "code",
   "execution_count": 19,
   "id": "built-pocket",
   "metadata": {
    "collapsed": true
   },
   "outputs": [
    {
     "name": "stdout",
     "output_type": "stream",
     "text": [
      "tensor([[0.9110, 1.0863, 1.8981, 0.9080, 1.9733],\n",
      "        [0.9517, 1.2455, 2.0831, 0.9428, 2.1483],\n",
      "        [0.8564, 1.0001, 1.7654, 0.8522, 1.8394],\n",
      "        [0.4191, 0.5451, 0.9120, 0.4518, 0.9290]]) \n",
      "\n",
      "tensor([[1.8981],\n",
      "        [0.9517],\n",
      "        [1.0001],\n",
      "        [0.4518]])\n",
      "tensor([6.7769, 7.3714, 6.3136, 3.2570])\n"
     ]
    }
   ],
   "source": [
    "b = torch.arange(num_train)\n",
    "score_vec = X.mm(W)\n",
    "print(score_vec, '\\n')\n",
    "print(score_vec[b, y].reshape(-1, 1))\n",
    "print(torch.sum(score_vec, axis = 1))"
   ]
  },
  {
   "cell_type": "code",
   "execution_count": 47,
   "id": "cooked-scoop",
   "metadata": {},
   "outputs": [
    {
     "name": "stdout",
     "output_type": "stream",
     "text": [
      "tensor([[0.0000, 0.3654, 0.0551, 0.5661, 0.1929],\n",
      "        [1.1504, 0.5004, 0.5943, 0.0000, 0.4265],\n",
      "        [1.0290, 0.0000, 0.7166, 0.8194, 0.8528],\n",
      "        [2.1294, 1.1793, 0.0000, 1.6837, 0.9860]])\n",
      "dW =  tensor([[-0.2438,  0.1290, -0.5054,  0.0358,  0.6338],\n",
      "        [-0.4746,  0.4525, -0.5251,  0.1025,  0.5000],\n",
      "        [ 0.2970,  0.3109, -0.3589, -0.5410,  0.3348]]) \n",
      "\n",
      "loss = tensor(3.3617)\n"
     ]
    }
   ],
   "source": [
    "# vector-wise multiclass SVM\n",
    "dW_vec = torch.zeros_like(W) # D * C = 3 * 5\n",
    "loss_vec = 0\n",
    "b = torch.arange(num_train) # N * 1 = 4\n",
    "\n",
    "score_vec = X.mm(W) # N * C\n",
    "correct_score = score_vec[b, y]\n",
    "\n",
    "margin_vec = torch.maximum(torch.zeros_like(score_vec), score_vec - correct_score.reshape(-1, 1) + 1)\n",
    "margin_vec[b, y] = 0\n",
    "loss_vec += torch.sum(margin_vec)\n",
    "loss_vec /= num_train\n",
    "loss_vec += reg * torch.sum(W * W)\n",
    "\n",
    "# 2, not correct class, margin > 0 dW[:, j] = sum X[i, :], so dW each row are same if linear\n",
    "# 3, not correct class, margin <=0 dW = 0\n",
    "# svm: for each batch of N, incorrect class is score - correct_score\n",
    "binary = margin_vec\n",
    "print(margin_vec)\n",
    "binary[margin_vec > 0] = 1 # here margin and binary changed together!!!\n",
    "#print(margin_vec)\n",
    "\n",
    "# 1, correct score dW = -1\n",
    "each_row = torch.sum(binary, axis = 1) # sum up all columns for each row\n",
    "# fill all entries of binary\n",
    "binary[b, y] = -each_row\n",
    "dW_vec = X.t().mm(binary) # D * C = (D * N) * (N * C)\n",
    "\n",
    "dW_vec /= num_train\n",
    "dW_vec += reg * 2 * W\n",
    "\n",
    "#print(margin_vec)\n",
    "#print(binary)\n",
    "print(\"dW = \", dW_vec, '\\n')\n",
    "print(\"loss =\", loss_vec)"
   ]
  }
 ],
 "metadata": {
  "kernelspec": {
   "display_name": "Python 3",
   "language": "python",
   "name": "python3"
  },
  "language_info": {
   "codemirror_mode": {
    "name": "ipython",
    "version": 3
   },
   "file_extension": ".py",
   "mimetype": "text/x-python",
   "name": "python",
   "nbconvert_exporter": "python",
   "pygments_lexer": "ipython3",
   "version": "3.8.5"
  }
 },
 "nbformat": 4,
 "nbformat_minor": 5
}
