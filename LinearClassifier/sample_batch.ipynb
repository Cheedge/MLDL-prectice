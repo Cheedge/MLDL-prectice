{
 "cells": [
  {
   "cell_type": "code",
   "execution_count": 91,
   "id": "stuffed-supplement",
   "metadata": {},
   "outputs": [
    {
     "name": "stdout",
     "output_type": "stream",
     "text": [
      "tensor([[0.2481, 0.6432, 0.3115],\n",
      "        [0.8465, 0.3194, 0.5687],\n",
      "        [0.9843, 0.0353, 0.4146],\n",
      "        [0.3098, 0.9517, 0.3402]]) \n",
      " tensor([0, 2, 1, 3])\n"
     ]
    }
   ],
   "source": [
    "import numpy as np\n",
    "import torch\n",
    "\n",
    "X = torch.rand([4, 3])\n",
    "y = torch.randperm(4)\n",
    "num_train = X.shape[0]\n",
    "batch_size = 40\n",
    "#dim = 2\n",
    "print(X, '\\n', y)"
   ]
  },
  {
   "cell_type": "code",
   "execution_count": 76,
   "id": "worth-extraction",
   "metadata": {
    "collapsed": true
   },
   "outputs": [
    {
     "name": "stdout",
     "output_type": "stream",
     "text": [
      "12 4\n",
      "tensor([[2, 2],\n",
      "        [3, 7],\n",
      "        [3, 4],\n",
      "        [3, 1]]) \n",
      " tensor([[1],\n",
      "        [5],\n",
      "        [0],\n",
      "        [3]])\n",
      "tensor([[0.5657, 0.5069, 0.6903],\n",
      "        [0.3055, 0.6574, 0.4924],\n",
      "        [0.2904, 0.1416, 0.3989],\n",
      "        [0.6245, 0.3383, 0.4088]]) \n",
      " None\n"
     ]
    }
   ],
   "source": [
    "X_batch = None\n",
    "y_batch = None\n",
    "num_chunck = batch_size * dim\n",
    "length_X = X.shape[0] * X.shape[1]\n",
    "length_y = len(y)\n",
    "print(length_X, length_y)\n",
    "\n",
    "\n",
    "xx = 0\n",
    "yy = 0\n",
    "indX = torch.randint(length_X, (batch_size, dim))\n",
    "indy = torch.randint(length_y, (batch_size,))\n",
    "for i in range(length_X // num_chunck):\n",
    "    indX = torch.randint(xx, xx + num_chunck, (batch_size, dim))\n",
    "    indy = torch.randint(yy, yy + num_chunck, (batch_size, 1))\n",
    "    xx += num_chunck\n",
    "    yy += num_chunck\n",
    "    #X_batch = X[indX]\n",
    "    #y_batch = y[indy]\n",
    "    #print(X[indX])\n",
    "    \n",
    "print(indX, '\\n', indy)\n",
    "print(X, '\\n', y_batch)"
   ]
  },
  {
   "cell_type": "code",
   "execution_count": 95,
   "id": "international-specification",
   "metadata": {
    "collapsed": true
   },
   "outputs": [
    {
     "name": "stdout",
     "output_type": "stream",
     "text": [
      "tensor([[0.5687, 0.9517, 0.6432],\n",
      "        [0.8465, 0.3194, 0.3115],\n",
      "        [0.8465, 0.4146, 0.3194],\n",
      "        [0.3194, 0.0353, 0.3194],\n",
      "        [0.5687, 0.2481, 0.3194],\n",
      "        [0.3098, 0.9843, 0.2481],\n",
      "        [0.3194, 0.3098, 0.9517],\n",
      "        [0.3194, 0.5687, 0.8465],\n",
      "        [0.5687, 0.3098, 0.3194],\n",
      "        [0.9517, 0.6432, 0.8465],\n",
      "        [0.3194, 0.2481, 0.3115],\n",
      "        [0.9517, 0.3194, 0.9517],\n",
      "        [0.4146, 0.9517, 0.6432],\n",
      "        [0.6432, 0.6432, 0.8465],\n",
      "        [0.9517, 0.5687, 0.0353],\n",
      "        [0.9517, 0.3098, 0.2481],\n",
      "        [0.4146, 0.6432, 0.4146],\n",
      "        [0.9843, 0.3402, 0.3194],\n",
      "        [0.9517, 0.8465, 0.2481],\n",
      "        [0.5687, 0.2481, 0.2481],\n",
      "        [0.4146, 0.3098, 0.2481],\n",
      "        [0.9843, 0.4146, 0.9843],\n",
      "        [0.3098, 0.6432, 0.3098],\n",
      "        [0.4146, 0.3194, 0.3194],\n",
      "        [0.6432, 0.6432, 0.3098],\n",
      "        [0.4146, 0.3098, 0.2481],\n",
      "        [0.3098, 0.5687, 0.0353],\n",
      "        [0.3194, 0.3194, 0.3115],\n",
      "        [0.8465, 0.6432, 0.5687],\n",
      "        [0.5687, 0.9517, 0.9517],\n",
      "        [0.3098, 0.3194, 0.3115],\n",
      "        [0.4146, 0.3194, 0.2481],\n",
      "        [0.3194, 0.3402, 0.3115],\n",
      "        [0.8465, 0.3194, 0.3098],\n",
      "        [0.5687, 0.5687, 0.3098],\n",
      "        [0.3194, 0.3402, 0.9517],\n",
      "        [0.3115, 0.2481, 0.6432],\n",
      "        [0.6432, 0.3402, 0.3194],\n",
      "        [0.9843, 0.4146, 0.4146],\n",
      "        [0.3194, 0.3194, 0.3402]])\n"
     ]
    }
   ],
   "source": [
    "# data can be reused batch_size * dim, so dim can be any num\n",
    "X_batch = None\n",
    "y_batch = None\n",
    "\n",
    "num_train = X.shape[0]\n",
    "num_dim = X.shape[1]\n",
    "dim = num_dim\n",
    "X_data = torch.flatten(X)\n",
    "length_X_data = len(X_data)\n",
    "#for i in range(batch_size):\n",
    "ind_X = torch.randint(length_X_data, (batch_size * dim, ))\n",
    "X_batch = X_data[ind_X].reshape([batch_size, dim])\n",
    "\n",
    "print(X_batch)"
   ]
  },
  {
   "cell_type": "code",
   "execution_count": 98,
   "id": "perfect-violation",
   "metadata": {
    "collapsed": true
   },
   "outputs": [
    {
     "name": "stdout",
     "output_type": "stream",
     "text": [
      "tensor([[0.9843, 0.0353, 0.4146],\n",
      "        [0.2481, 0.6432, 0.3115],\n",
      "        [0.9843, 0.0353, 0.4146],\n",
      "        [0.2481, 0.6432, 0.3115],\n",
      "        [0.8465, 0.3194, 0.5687],\n",
      "        [0.3098, 0.9517, 0.3402],\n",
      "        [0.3098, 0.9517, 0.3402],\n",
      "        [0.3098, 0.9517, 0.3402],\n",
      "        [0.2481, 0.6432, 0.3115],\n",
      "        [0.2481, 0.6432, 0.3115],\n",
      "        [0.9843, 0.0353, 0.4146],\n",
      "        [0.9843, 0.0353, 0.4146],\n",
      "        [0.8465, 0.3194, 0.5687],\n",
      "        [0.8465, 0.3194, 0.5687],\n",
      "        [0.8465, 0.3194, 0.5687],\n",
      "        [0.8465, 0.3194, 0.5687],\n",
      "        [0.3098, 0.9517, 0.3402],\n",
      "        [0.9843, 0.0353, 0.4146],\n",
      "        [0.2481, 0.6432, 0.3115],\n",
      "        [0.8465, 0.3194, 0.5687],\n",
      "        [0.9843, 0.0353, 0.4146],\n",
      "        [0.3098, 0.9517, 0.3402],\n",
      "        [0.3098, 0.9517, 0.3402],\n",
      "        [0.3098, 0.9517, 0.3402],\n",
      "        [0.8465, 0.3194, 0.5687],\n",
      "        [0.9843, 0.0353, 0.4146],\n",
      "        [0.2481, 0.6432, 0.3115],\n",
      "        [0.9843, 0.0353, 0.4146],\n",
      "        [0.2481, 0.6432, 0.3115],\n",
      "        [0.9843, 0.0353, 0.4146],\n",
      "        [0.2481, 0.6432, 0.3115],\n",
      "        [0.9843, 0.0353, 0.4146],\n",
      "        [0.2481, 0.6432, 0.3115],\n",
      "        [0.2481, 0.6432, 0.3115],\n",
      "        [0.9843, 0.0353, 0.4146],\n",
      "        [0.8465, 0.3194, 0.5687],\n",
      "        [0.2481, 0.6432, 0.3115],\n",
      "        [0.8465, 0.3194, 0.5687],\n",
      "        [0.9843, 0.0353, 0.4146],\n",
      "        [0.9843, 0.0353, 0.4146]]) \n",
      " tensor([1, 0, 1, 0, 2, 3, 3, 3, 0, 0, 1, 1, 2, 2, 2, 2, 3, 1, 0, 2, 1, 3, 3, 3,\n",
      "        2, 1, 0, 1, 0, 1, 0, 1, 0, 0, 1, 2, 0, 2, 1, 1])\n"
     ]
    }
   ],
   "source": [
    "# abstract n batches form N total num_train.\n",
    "X_batch = None\n",
    "y_batch = None\n",
    "num_train = X.shape[0]\n",
    "dim = X.shape[1]\n",
    "\n",
    "n = torch.randint(num_train, (batch_size,))\n",
    "X_batch = X[n, :]\n",
    "y_batch = y[n]\n",
    "\n",
    "print(X_batch, '\\n', y_batch)"
   ]
  }
 ],
 "metadata": {
  "kernelspec": {
   "display_name": "Python 3",
   "language": "python",
   "name": "python3"
  },
  "language_info": {
   "codemirror_mode": {
    "name": "ipython",
    "version": 3
   },
   "file_extension": ".py",
   "mimetype": "text/x-python",
   "name": "python",
   "nbconvert_exporter": "python",
   "pygments_lexer": "ipython3",
   "version": "3.8.5"
  }
 },
 "nbformat": 4,
 "nbformat_minor": 5
}
