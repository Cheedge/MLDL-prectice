{
 "cells": [
  {
   "cell_type": "code",
   "execution_count": 20,
   "id": "extraordinary-session",
   "metadata": {},
   "outputs": [
    {
     "name": "stdout",
     "output_type": "stream",
     "text": [
      "tensor([[0.8455, 0.7791, 0.4064],\n",
      "        [0.6842, 0.4369, 0.1254],\n",
      "        [0.1584, 0.0212, 0.1811],\n",
      "        [0.1894, 0.0117, 0.0020]]) \n",
      " tensor(0) \t tensor([0, 0, 2, 0])\n",
      "tensor([[0.8455, 0.7791, 0.4064],\n",
      "        [0.6842, 0.4369, 0.1254],\n",
      "        [0.1584, 0.0212, 0.1811],\n",
      "        [0.1894, 0.0117, 0.0020]]) \n",
      " tensor(0) \t tensor([0, 0, 2, 0])\n",
      "tensor([[0.8455, 0.7791, 0.4064],\n",
      "        [0.6842, 0.4369, 0.1254],\n",
      "        [0.1584, 0.0212, 0.1811],\n",
      "        [0.1894, 0.0117, 0.0020]]) \n",
      " tf.Tensor([0 0 0], shape=(3,), dtype=int64) \t tf.Tensor([0 0 2 0], shape=(4,), dtype=int64)\n",
      "tensor([2, 0, 1, 3])\n"
     ]
    }
   ],
   "source": [
    "import tensorflow as tf\n",
    "import numpy as np\n",
    "import torch\n",
    "X = torch.rand([4, 3])\n",
    "W = torch.rand([3, 5])\n",
    "y = torch.randperm(4)\n",
    "num_train = X.shape[0]\n",
    "score = X.mm(W)\n",
    "x_t = torch.argmax(X)\n",
    "x_t0 = torch.argmax(X, 1)\n",
    "print(X, '\\n', x_t, '\\t', x_t0)\n",
    "x_n = np.argmax(X)\n",
    "x_n0 = np.argmax(X, 1)\n",
    "print(X, '\\n', x_n, '\\t', x_n0)\n",
    "x_f = tf.argmax(X)\n",
    "x_f0 = tf.argmax(X, 1)\n",
    "print(X, '\\n', x_f, '\\t', x_f0)\n",
    "print(y)"
   ]
  },
  {
   "cell_type": "code",
   "execution_count": 81,
   "id": "surrounded-payment",
   "metadata": {},
   "outputs": [
    {
     "ename": "TypeError",
     "evalue": "mm(): argument 'mat2' (position 1) must be Tensor, not numpy.ndarray",
     "output_type": "error",
     "traceback": [
      "\u001b[0;31m---------------------------------------------------------------------------\u001b[0m",
      "\u001b[0;31mTypeError\u001b[0m                                 Traceback (most recent call last)",
      "\u001b[0;32m<ipython-input-81-12d8d0f4dd9a>\u001b[0m in \u001b[0;36m<module>\u001b[0;34m\u001b[0m\n\u001b[1;32m      3\u001b[0m \u001b[0;31m# torch use 'mm'; torch has attribute 'dot' but only cal in 1D. in mm X, or M neither can be np.\u001b[0m\u001b[0;34m\u001b[0m\u001b[0;34m\u001b[0m\u001b[0;34m\u001b[0m\u001b[0m\n\u001b[1;32m      4\u001b[0m \u001b[0;31m#score0 = torch.mm(X, W)\u001b[0m\u001b[0;34m\u001b[0m\u001b[0;34m\u001b[0m\u001b[0;34m\u001b[0m\u001b[0m\n\u001b[0;32m----> 5\u001b[0;31m \u001b[0mscore0\u001b[0m \u001b[0;34m=\u001b[0m \u001b[0mX\u001b[0m\u001b[0;34m.\u001b[0m\u001b[0mmm\u001b[0m\u001b[0;34m(\u001b[0m\u001b[0mW0\u001b[0m\u001b[0;34m)\u001b[0m\u001b[0;34m\u001b[0m\u001b[0;34m\u001b[0m\u001b[0m\n\u001b[0m\u001b[1;32m      6\u001b[0m \u001b[0;31m# numpy use 'dot', doesn't has attribute 'mm'. can use 'np dot torch'\u001b[0m\u001b[0;34m\u001b[0m\u001b[0;34m\u001b[0m\u001b[0;34m\u001b[0m\u001b[0m\n\u001b[1;32m      7\u001b[0m \u001b[0mscore_np\u001b[0m \u001b[0;34m=\u001b[0m \u001b[0mX0\u001b[0m\u001b[0;34m.\u001b[0m\u001b[0mdot\u001b[0m\u001b[0;34m(\u001b[0m\u001b[0mW\u001b[0m\u001b[0;34m)\u001b[0m\u001b[0;34m\u001b[0m\u001b[0;34m\u001b[0m\u001b[0m\n",
      "\u001b[0;31mTypeError\u001b[0m: mm(): argument 'mat2' (position 1) must be Tensor, not numpy.ndarray"
     ]
    }
   ],
   "source": [
    "X0 = np.random.rand(4, 3)\n",
    "W0 = np.random.rand(3, 5)\n",
    "# torch use 'mm'; torch has attribute 'dot' but only cal in 1D. in mm X, or M neither can be np. \n",
    "#score0 = torch.mm(X, W)\n",
    "score0 = X.mm(W0)\n",
    "# numpy use 'dot', doesn't has attribute 'mm'. can use 'np dot torch'\n",
    "score_np = X0.dot(W)\n",
    "print(score0, '\\n', score, '\\n')\n",
    "print(score_np)\n",
    "print(X,'\\n', X0, '\\n')"
   ]
  },
  {
   "cell_type": "code",
   "execution_count": 62,
   "id": "hired-colonial",
   "metadata": {},
   "outputs": [
    {
     "name": "stdout",
     "output_type": "stream",
     "text": [
      "0.8455 0.5337 0.45124335\n",
      "0.7791 0.7125 1.0063521\n",
      "0.4064 0.4724 1.19833546\n",
      "1.19833546\n"
     ]
    }
   ],
   "source": [
    "k = 0\n",
    "a = [0.8455, 0.7791, 0.4064]\n",
    "b = [0.5337, 0.7125, 0.4724]\n",
    "for i, j in zip(a, b):\n",
    "    k += i * j\n",
    "    print(i, j, k)\n",
    "print(k)\n",
    "xx = "
   ]
  },
  {
   "cell_type": "code",
   "execution_count": 33,
   "id": "irish-authentication",
   "metadata": {},
   "outputs": [
    {
     "name": "stdout",
     "output_type": "stream",
     "text": [
      "tensor([2, 0, 1, 3]) \n",
      " tensor([2, 2, 2, 2]) torch.Size([4])\n",
      "tensor(0.2500)\n",
      "tensor(0.2500)\n",
      "tensor(0.2500)\n"
     ]
    }
   ],
   "source": [
    "y_pred = torch.argmax(score, 1)\n",
    "print(y,'\\n', y_pred, y_pred.shape)\n",
    "#accu_t = np.mean(y_pred == y)\n",
    "y_ab = y_pred - y\n",
    "accu = 1 - torch.count_nonzero(y_ab) / num_train\n",
    "print(accu)\n",
    "#print((y_pred == y).mean())\n",
    "print((y_pred == y).sum() / len(y_pred == y))\n",
    "print(torch.sum(y_pred == y) / len(y_pred == y))"
   ]
  }
 ],
 "metadata": {
  "kernelspec": {
   "display_name": "Python 3",
   "language": "python",
   "name": "python3"
  },
  "language_info": {
   "codemirror_mode": {
    "name": "ipython",
    "version": 3
   },
   "file_extension": ".py",
   "mimetype": "text/x-python",
   "name": "python",
   "nbconvert_exporter": "python",
   "pygments_lexer": "ipython3",
   "version": "3.8.5"
  }
 },
 "nbformat": 4,
 "nbformat_minor": 5
}
