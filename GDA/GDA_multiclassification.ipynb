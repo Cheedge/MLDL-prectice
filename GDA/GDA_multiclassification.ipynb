{
 "cells": [
  {
   "cell_type": "code",
   "execution_count": 1,
   "id": "located-loading",
   "metadata": {},
   "outputs": [
    {
     "name": "stdout",
     "output_type": "stream",
     "text": [
      "f1 score of our model 0.94797571\n"
     ]
    }
   ],
   "source": [
    "from GDA_multiclass import GaussianDiscrimativeAnalysis_Multiclasses\n",
    "from sklearn.datasets import load_iris\n",
    "from sklearn.model_selection import train_test_split\n",
    "from sklearn.metrics import f1_score\n",
    "\n",
    "iris_data = load_iris()\n",
    "x_train, x_val, y_train, y_val = train_test_split(iris_data.data, iris_data.target)\n",
    "GDA_model = GaussianDiscrimativeAnalysis_Multiclasses(x_train, y_train)\n",
    "#print(y_train)\n",
    "mu, var, phi = GDA_model.GenerativeModel()\n",
    "#print(var)\n",
    "y_pred = GDA_model.prediction(x_val)\n",
    "score = f1_score(y_val, y_pred, average=\"weighted\")\n",
    "print(f'f1 score of our model {score:.8f}')\n"
   ]
  },
  {
   "cell_type": "markdown",
   "id": "contemporary-willow",
   "metadata": {},
   "source": [
    "## plot in 2D (reduce dim by PCA)"
   ]
  },
  {
   "cell_type": "code",
   "execution_count": 6,
   "id": "sized-dancing",
   "metadata": {},
   "outputs": [
    {
     "data": {
      "text/plain": [
       "<matplotlib.contour.QuadContourSet at 0x7f9d3572ec10>"
      ]
     },
     "execution_count": 6,
     "metadata": {},
     "output_type": "execute_result"
    },
    {
     "data": {
      "image/png": "[encoded data removed]",
      "text/plain": [
       "<Figure size 432x288 with 1 Axes>"
      ]
     },
     "metadata": {
      "needs_background": "light"
     },
     "output_type": "display_data"
    }
   ],
   "source": [
    "import matplotlib.pyplot as plt\n",
    "from sklearn.decomposition import PCA\n",
    "x, y = iris_data.data, iris_data.target\n",
    "pca_model = PCA(n_components=2)\n",
    "x_pca = pca_model.fit_transform(x)\n",
    "# print(x_pca.shape)\n",
    "GDA_pca = GaussianDiscrimativeAnalysis_Multiclasses(x_pca, y)\n",
    "mu_pca, var_pca, phi_pca = GDA_pca.GenerativeModel()\n",
    "\n",
    "# prepare separate x_pca ponits for ploting\n",
    "x_pca_dic = GDA_pca.SeparateXpoints()\n",
    "C = len(x_pca_dic)\n",
    "\n",
    "\n",
    "\n",
    "import numpy as np\n",
    "# print(x_pca.shape,np.max(x_pca[:,0]), np.min(x_pca[:,0]))\n",
    "resolution = 100\n",
    "x0 = np.linspace(-4, 4, resolution)\n",
    "x1 = np.linspace(-1.5, 1.5, resolution)\n",
    "\n",
    "\n",
    "x0_grid, x1_grid = np.meshgrid(x0, x1)\n",
    "# print(x0_grid.shape)\n",
    "x_hat = np.c_[x0_grid.ravel(), x1_grid.ravel()]\n",
    "# print(x_hat.shape)\n",
    "y_line = GDA_pca.prediction(x_hat)\n",
    "z = y_line.reshape(resolution, resolution)\n",
    "for i in range(C):\n",
    "    plt.scatter(x_pca_dic[i][:, 0], x_pca_dic[i][:, 1])\n",
    "plt.contourf(x0_grid, x1_grid, z, alpha=0.2)"
   ]
  }
 ],
 "metadata": {
  "kernelspec": {
   "display_name": "Python 3",
   "language": "python",
   "name": "python3"
  },
  "language_info": {
   "codemirror_mode": {
    "name": "ipython",
    "version": 3
   },
   "file_extension": ".py",
   "mimetype": "text/x-python",
   "name": "python",
   "nbconvert_exporter": "python",
   "pygments_lexer": "ipython3",
   "version": "3.8.5"
  }
 },
 "nbformat": 4,
 "nbformat_minor": 5
}
